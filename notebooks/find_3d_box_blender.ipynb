{
 "cells": [
  {
   "cell_type": "markdown",
   "id": "98bbb979",
   "metadata": {
    "pycharm": {
     "name": "#%% md\n"
    }
   },
   "source": [
    "# Find 3D Box - Blender"
   ]
  },
  {
   "cell_type": "code",
   "execution_count": null,
   "id": "e72d7ba3",
   "metadata": {
    "pycharm": {
     "name": "#%%\n"
    }
   },
   "outputs": [],
   "source": [
    "from user_interface_blender import w_base_configs\n",
    "display(w_base_configs)"
   ]
  },
  {
   "cell_type": "code",
   "execution_count": null,
   "outputs": [],
   "source": [
    "from user_interface_blender import w_create_box_configs\n",
    "if w_base_configs.result['create_box']:\n",
    "    display(w_create_box_configs)"
   ],
   "metadata": {
    "collapsed": false,
    "pycharm": {
     "name": "#%%\n"
    }
   }
  },
  {
   "cell_type": "code",
   "execution_count": null,
   "outputs": [],
   "source": [
    "from display_scene_blender import init_scene\n",
    "base_configs = w_base_configs.result\n",
    "args, render_kwargs_test, K, hwf = init_scene(base_configs['config_path'])"
   ],
   "metadata": {
    "collapsed": false,
    "pycharm": {
     "name": "#%%\n"
    }
   }
  },
  {
   "cell_type": "code",
   "execution_count": null,
   "outputs": [],
   "source": [
    "from display_scene_blender import plot_scene\n",
    "base_configs = w_base_configs.result\n",
    "create_box_configs = w_create_box_configs.result\n",
    "\n",
    "theta = base_configs['theta']\n",
    "phi = base_configs['phi']\n",
    "radius = base_configs['radius']\n",
    "create_box = base_configs['create_box']\n",
    "\n",
    "if create_box:\n",
    "    box_center = (create_box_configs['box_center_x'], create_box_configs['box_center_y'], create_box_configs['box_center_z'])\n",
    "    box_edges_size = (create_box_configs['edge_size_x'], create_box_configs['edge_size_y'], create_box_configs['edge_size_z'])\n",
    "    box_path = create_box_configs['box_path']\n",
    "    plot_scene(args, render_kwargs_test, hwf, K, theta, phi, radius, create_box, box_center, box_edges_size, box_path)\n",
    "else:\n",
    "    plot_scene(args, render_kwargs_test, hwf, K, theta, phi, radius)\n",
    "\n"
   ],
   "metadata": {
    "collapsed": false,
    "pycharm": {
     "name": "#%%\n"
    }
   }
  },
  {
   "cell_type": "code",
   "execution_count": null,
   "id": "64db98c3",
   "metadata": {
    "pycharm": {
     "name": "#%%\n"
    }
   },
   "outputs": [],
   "source": []
  }
 ],
 "metadata": {
  "kernelspec": {
   "display_name": "Python 3 (ipykernel)",
   "language": "python",
   "name": "python3"
  },
  "language_info": {
   "codemirror_mode": {
    "name": "ipython",
    "version": 3
   },
   "file_extension": ".py",
   "mimetype": "text/x-python",
   "name": "python",
   "nbconvert_exporter": "python",
   "pygments_lexer": "ipython3",
   "version": "3.9.0"
  }
 },
 "nbformat": 4,
 "nbformat_minor": 5
}