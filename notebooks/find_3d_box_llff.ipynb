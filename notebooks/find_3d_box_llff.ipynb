{
 "cells": [
  {
   "cell_type": "markdown",
   "id": "b022423b",
   "metadata": {
    "pycharm": {
     "name": "#%% md\n"
    }
   },
   "source": [
    "# Find 3D box  - llff "
   ]
  },
  {
   "cell_type": "code",
   "execution_count": null,
   "id": "9af2aacb",
   "metadata": {
    "pycharm": {
     "name": "#%%\n"
    }
   },
   "outputs": [],
   "source": [
    "from user_interface_llff import w_base_configs\n",
    "display(w_base_configs)"
   ]
  },
  {
   "cell_type": "code",
   "execution_count": null,
   "outputs": [],
   "source": [
    "from user_interface_llff import w_create_box_configs, w_pose_configs\n",
    "if w_base_configs.result['create_box']:\n",
    "    display(w_create_box_configs)\n",
    "\n",
    "if not w_base_configs.result['sample_pose']:\n",
    "    display(w_pose_configs)\n"
   ],
   "metadata": {
    "collapsed": false,
    "pycharm": {
     "name": "#%%\n"
    }
   }
  },
  {
   "cell_type": "code",
   "execution_count": null,
   "outputs": [],
   "source": [
    "from display_scene_llff import init_scene\n",
    "base_configs = w_base_configs.result\n",
    "args, render_kwargs_test, hwf, K = init_scene(base_configs['config_path'])"
   ],
   "metadata": {
    "collapsed": false,
    "pycharm": {
     "name": "#%%\n"
    }
   }
  },
  {
   "cell_type": "code",
   "execution_count": null,
   "outputs": [],
   "source": [
    "from display_scene_llff import plot_scene\n",
    "base_configs = w_base_configs.result\n",
    "create_box_configs = w_create_box_configs.result\n",
    "pose_configs = w_pose_configs.result\n",
    "\n",
    "zoom = base_configs['zoom']\n",
    "sample_pose = base_configs[\"sample_pose\"]\n",
    "create_box = base_configs[\"create_box\"]\n",
    "pose_idx = pose_configs['pose_index']\n",
    "\n",
    "if create_box:\n",
    "    box_center = (create_box_configs['box_center_x'], create_box_configs['box_center_y'], create_box_configs['box_center_z'])\n",
    "    box_edges_size = (create_box_configs['edge_size_x'], create_box_configs['edge_size_y'], create_box_configs['edge_size_z'])\n",
    "    box_path = create_box_configs['box_path']\n",
    "    plot_scene(args,render_kwargs_test,hwf,K,zoom,create_box,box_center,box_edges_size,box_path,pose_idx,sample_pose)\n",
    "\n",
    "else:\n",
    "    plot_scene(args,render_kwargs_test,hwf,K,zoom,pose_idx=pose_idx,sample_random_poses=sample_pose)"
   ],
   "metadata": {
    "collapsed": false,
    "pycharm": {
     "name": "#%%\n"
    }
   }
  },
  {
   "cell_type": "code",
   "execution_count": null,
   "outputs": [],
   "source": [],
   "metadata": {
    "collapsed": false,
    "pycharm": {
     "name": "#%%\n"
    }
   }
  },
  {
   "cell_type": "code",
   "execution_count": null,
   "id": "5915bfd1",
   "metadata": {},
   "outputs": [],
   "source": []
  }
 ],
 "metadata": {
  "kernelspec": {
   "display_name": "Python 3 (ipykernel)",
   "language": "python",
   "name": "python3"
  },
  "language_info": {
   "codemirror_mode": {
    "name": "ipython",
    "version": 3
   },
   "file_extension": ".py",
   "mimetype": "text/x-python",
   "name": "python",
   "nbconvert_exporter": "python",
   "pygments_lexer": "ipython3",
   "version": "3.9.0"
  }
 },
 "nbformat": 4,
 "nbformat_minor": 5
}