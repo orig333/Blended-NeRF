{
 "cells": [
  {
   "cell_type": "markdown",
   "id": "197f1787",
   "metadata": {
    "pycharm": {
     "name": "#%% md\n"
    }
   },
   "source": [
    "# Find 3D box - 360"
   ]
  },
  {
   "cell_type": "code",
   "execution_count": null,
   "id": "af70135b",
   "metadata": {
    "pycharm": {
     "name": "#%%\n"
    }
   },
   "outputs": [],
   "source": [
    "from user_interface_360 import w_base_configs\n",
    "display(w_base_configs)"
   ]
  },
  {
   "cell_type": "code",
   "execution_count": null,
   "id": "12a531eb",
   "metadata": {},
   "outputs": [],
   "source": [
    "from user_interface_blender import w_create_box_configs\n",
    "if w_base_configs.result['create_box']:\n",
    "    display(w_create_box_configs)"
   ]
  },
  {
   "cell_type": "code",
   "execution_count": null,
   "id": "caa3dd06",
   "metadata": {},
   "outputs": [],
   "source": [
    "from display_scene_360 import init_scene\n",
    "base_configs = w_base_configs.result\n",
    "args, render_kwargs_test, K, hwf = init_scene(base_configs['config_path'])"
   ]
  },
  {
   "cell_type": "code",
   "execution_count": null,
   "id": "98869122",
   "metadata": {},
   "outputs": [],
   "source": [
    "from display_scene_360 import plot_scene\n",
    "base_configs = w_base_configs.result\n",
    "create_box_configs = w_create_box_configs.result\n",
    "\n",
    "theta = base_configs['theta']\n",
    "phi = base_configs['phi']\n",
    "radius = base_configs['radius']\n",
    "create_box = base_configs['create_box']\n",
    "\n",
    "if create_box:\n",
    "    box_center = (create_box_configs['box_center_x'], create_box_configs['box_center_y'], create_box_configs['box_center_z'])\n",
    "    box_edges_size = (create_box_configs['edge_size_x'], create_box_configs['edge_size_y'], create_box_configs['edge_size_z'])\n",
    "    box_path = create_box_configs['box_path']\n",
    "    plot_scene(args, render_kwargs_test, hwf, K, theta, phi, radius, create_box, box_center, box_edges_size, box_path)\n",
    "else:\n",
    "    plot_scene(args, render_kwargs_test, hwf, K, theta, phi, radius)"
   ]
  },
  {
   "cell_type": "code",
   "execution_count": null,
   "id": "382f2efd",
   "metadata": {},
   "outputs": [],
   "source": []
  }
 ],
 "metadata": {
  "kernelspec": {
   "display_name": "Python 3 (ipykernel)",
   "language": "python",
   "name": "python3"
  },
  "language_info": {
   "codemirror_mode": {
    "name": "ipython",
    "version": 3
   },
   "file_extension": ".py",
   "mimetype": "text/x-python",
   "name": "python",
   "nbconvert_exporter": "python",
   "pygments_lexer": "ipython3",
   "version": "3.9.0"
  }
 },
 "nbformat": 4,
 "nbformat_minor": 5
}